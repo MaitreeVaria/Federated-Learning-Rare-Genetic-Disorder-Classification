{
 "cells": [
  {
   "cell_type": "code",
   "execution_count": null,
   "metadata": {},
   "outputs": [],
   "source": [
    "import pandas as pd\n",
    "from sklearn.model_selection import train_test_split\n",
    "df_train, df_temp = train_test_split(df, test_size=split_size, shuffle=True)"
   ]
  },
  {
   "cell_type": "code",
   "execution_count": 3,
   "metadata": {},
   "outputs": [],
   "source": [
    "import pandas as pd\n",
    "from sklearn.model_selection import train_test_split\n",
    "\n",
    "# Load your DataFrame (replace 'your_data.csv' with your actual data file)\n",
    "df = pd.read_csv('train.csv')\n",
    "\n",
    "# Split the DataFrame into 5 random parts\n",
    "num_splits = 3\n",
    "split_size = 1.0 / num_splits\n",
    "\n",
    "# Create empty lists to store the splits\n",
    "# data_splits = []\n",
    "\n",
    "# Loop to create 5 random splits\n",
    "for i in range(num_splits):\n",
    "    # Split the data into a training set and a temporary set (remaining data)\n",
    "    df_train, df_temp = train_test_split(df, test_size=split_size, shuffle=True)\n",
    "    \n",
    "    # Append the training set to the list of splits\n",
    "    # data_splits.append(df_train)\n",
    "    df_train.to_csv(f'train_split{i}.csv', index=False)\n",
    "    \n",
    "    # Update df to the remaining data for the next iteration\n",
    "    df = df_temp\n"
   ]
  },
  {
   "cell_type": "code",
   "execution_count": null,
   "metadata": {},
   "outputs": [],
   "source": []
  }
 ],
 "metadata": {
  "kernelspec": {
   "display_name": "env",
   "language": "python",
   "name": "python3"
  },
  "language_info": {
   "codemirror_mode": {
    "name": "ipython",
    "version": 3
   },
   "file_extension": ".py",
   "mimetype": "text/x-python",
   "name": "python",
   "nbconvert_exporter": "python",
   "pygments_lexer": "ipython3",
   "version": "3.11.4"
  },
  "orig_nbformat": 4
 },
 "nbformat": 4,
 "nbformat_minor": 2
}
